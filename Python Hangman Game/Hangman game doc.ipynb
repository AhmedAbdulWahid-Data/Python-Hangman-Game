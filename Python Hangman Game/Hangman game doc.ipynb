{
 "cells": [
  {
   "cell_type": "markdown",
   "metadata": {},
   "source": [
    "# A Brief History of Hangman\n",
    "\n",
    "Hangman is a classic word-guessing game that dates back centuries, though its exact origins are unclear. It’s been a favorite among children and adults alike due to its simplicity and ease of play. Here’s a look at its journey through time:\n",
    "\n",
    "> ### Early Origins \n",
    "\n",
    "The exact time and place where Hangman originated are still debated. Some believe it may have been played as early as the Victorian era (mid-1800s). At that time, simple word-guessing games were very popular as parlor games in homes and schools.\n",
    "\n",
    "The original form of Hangman might have been played without the drawing of a hanging man. Instead, the focus was simply on guessing the correct word.\n",
    "\n",
    "> ### The Evolution of the Game \n",
    "\n",
    "Hangman gained more structure during the 19th and 20th centuries. The game involves a player thinking of a word, and the other players guessing letters to form that word. For every incorrect guess, part of a stick figure is drawn on the gallows—arms, legs, and so on. After a set number of wrong guesses (usually 6 or 7), the figure is “hanged,” and the game ends with a loss.\n",
    "\n",
    "> ### The Dark Imagery \n",
    "\n",
    "While Hangman has become a playful pastime today, the game’s imagery—drawing a stick figure being “hanged”—is darker. This was likely a reflection of public executions that were still happening when the game was popularized. Over time, though, the game became more of an innocent challenge than a reflection of real-life events.\n",
    "\n",
    "> ### The Digital Age \n",
    "\n",
    "As computers and video games emerged in the late 20th century, Hangman became a popular choice for digital adaptations. It was easy to program and provided a simple but engaging challenge for players. Today, you can find Hangman in various formats—from online games to mobile apps, and even as educational tools to help with spelling and vocabulary.\n",
    "\n",
    "> ### Hangman as a Learning Tool \n",
    "\n",
    "In modern times, Hangman has been adopted in schools and educational settings. It’s often used to teach spelling, vocabulary, and language in a fun way. Teachers frequently modify the game to focus on specific word sets (like animals, colors, or geography), making it an interactive classroom activity.\n",
    "\n",
    "So, while Hangman may have humble beginnings as a parlor game, it has become a staple in homes, classrooms, and on our screens—continuing to entertain and educate players of all ages!\n",
    "\n"
   ]
  },
  {
   "cell_type": "markdown",
   "metadata": {},
   "source": [
    "# Let's code the game using Python "
   ]
  },
  {
   "cell_type": "code",
   "execution_count": 1,
   "metadata": {},
   "outputs": [
    {
     "name": "stdout",
     "output_type": "stream",
     "text": [
      "Requirement already satisfied: pygame in /Users/ahmedabdulwahid/myenv/lib/python3.12/site-packages (2.6.1)\n",
      "Note: you may need to restart the kernel to use updated packages.\n"
     ]
    }
   ],
   "source": [
    "pip install pygame"
   ]
  },
  {
   "cell_type": "markdown",
   "metadata": {},
   "source": [
    "### 1. Imports and Setup\n",
    "\n",
    "*\tAlright, so first we’re importing two things: pygame (which we need to make the game work) and random (to randomly pick a word for the player to guess).\n",
    "*\tWe also have to initialize pygame to make sure everything’s ready before we start coding the game.\n"
   ]
  },
  {
   "cell_type": "code",
   "execution_count": 4,
   "metadata": {},
   "outputs": [
    {
     "name": "stdout",
     "output_type": "stream",
     "text": [
      "pygame 2.6.1 (SDL 2.28.4, Python 3.12.6)\n",
      "Hello from the pygame community. https://www.pygame.org/contribute.html\n"
     ]
    },
    {
     "data": {
      "text/plain": [
       "(5, 0)"
      ]
     },
     "execution_count": 4,
     "metadata": {},
     "output_type": "execute_result"
    }
   ],
   "source": [
    "import pygame\n",
    "import random\n",
    "\n",
    "# initialize pygame\n",
    "pygame.init()"
   ]
  },
  {
   "cell_type": "markdown",
   "metadata": {},
   "source": [
    "### 2. Setting Up the Game Window\n",
    "*\tNext, we define the size of the window that the game will run in—here it’s 800 pixels wide and 500 pixels tall.\n",
    "*\tThen, we use pygame.display.set_mode() to create the window, and the set_caption() just adds the title “Hangman Game!” to the top of it."
   ]
  },
  {
   "cell_type": "code",
   "execution_count": 5,
   "metadata": {},
   "outputs": [],
   "source": [
    "# setup display\n",
    "WIDTH, HEIGHT = 800, 500\n",
    "win = pygame.display.set_mode((WIDTH, HEIGHT))\n",
    "pygame.display.set_caption(\"Hangman Game!\")"
   ]
  },
  {
   "cell_type": "markdown",
   "metadata": {},
   "source": [
    "### 3. Creating the Letter Buttons\n",
    "*\tWe’re drawing the alphabet letters as buttons on the screen.\n",
    "*\tEach letter is inside a circle (RADIUS = 20 controls the size) and there’s a bit of space between them (GAP = 15).\n",
    "*\tWe calculate the x and y positions for each letter in the alphabet so they fit nicely on two rows. Then, we store each letter’s position in a list called letters.\n"
   ]
  },
  {
   "cell_type": "code",
   "execution_count": 6,
   "metadata": {},
   "outputs": [],
   "source": [
    "# button variables\n",
    "RADIUS = 20\n",
    "GAP = 15\n",
    "letters = []\n",
    "startx = round((WIDTH - (RADIUS * 2 + GAP) * 13) / 2)\n",
    "starty = 400\n",
    "A = 65\n",
    "for i in range(26):\n",
    "    x = startx + GAP * 2 + ((RADIUS * 2 + GAP) * (i % 13))\n",
    "    y = starty + ((i // 13) * (GAP + RADIUS * 2))\n",
    "    letters.append([x, y, chr(A + i), True])"
   ]
  },
  {
   "cell_type": "markdown",
   "metadata": {},
   "source": [
    "### 4. Font Setup for Text\n",
    "*\tWe use different fonts to make the game look nicer! One font for the alphabet buttons, one for displaying the word you’re trying to guess, and a bigger one for the game’s title.\n"
   ]
  },
  {
   "cell_type": "code",
   "execution_count": 7,
   "metadata": {},
   "outputs": [],
   "source": [
    "# fonts\n",
    "LETTER_FONT = pygame.font.SysFont('comicsans', 30)\n",
    "WORD_FONT = pygame.font.SysFont('comicsans', 40)\n",
    "TITLE_FONT = pygame.font.SysFont('comicsans', 50)"
   ]
  },
  {
   "cell_type": "markdown",
   "metadata": {},
   "source": [
    "### 5. Loading Hangman Images\n",
    "*\tWe load the images for each stage of the Hangman. As you make mistakes, these images change to show more of the stickman being “hung.” We store all the images in a list so we can easily show them later.\n"
   ]
  },
  {
   "cell_type": "code",
   "execution_count": 8,
   "metadata": {},
   "outputs": [
    {
     "name": "stderr",
     "output_type": "stream",
     "text": [
      "libpng warning: iCCP: known incorrect sRGB profile\n",
      "libpng warning: iCCP: known incorrect sRGB profile\n",
      "libpng warning: iCCP: known incorrect sRGB profile\n",
      "libpng warning: iCCP: known incorrect sRGB profile\n",
      "libpng warning: iCCP: known incorrect sRGB profile\n",
      "libpng warning: iCCP: known incorrect sRGB profile\n",
      "libpng warning: iCCP: known incorrect sRGB profile\n"
     ]
    }
   ],
   "source": [
    "# load images\n",
    "images = []\n",
    "for i in range(7):\n",
    "    image = pygame.image.load(f\"images/hangman{i}.png\")\n",
    "    images.append(image)"
   ]
  },
  {
   "cell_type": "markdown",
   "metadata": {},
   "source": [
    "### 6. Game Variables\n",
    "We define some key variables for the game:\n",
    "*\thangman_status keeps track of how many mistakes you’ve made.\n",
    "*\twords is a list of possible words the player needs to guess. We use random.choice() to pick a word from this list.\n",
    "*\tguessed is an empty list where we’ll keep track of the letters the player has guessed correctly.\n"
   ]
  },
  {
   "cell_type": "code",
   "execution_count": 9,
   "metadata": {},
   "outputs": [],
   "source": [
    "# game variables\n",
    "hangman_status = 0\n",
    "words = [\"PYTHON\", \"SQL\", \"HTML\", \"CSS\", \"JAVASCRIPT\"]\n",
    "word = random.choice(words)\n",
    "guessed = []"
   ]
  },
  {
   "cell_type": "markdown",
   "metadata": {},
   "source": [
    "### 7. Color Definitions\n",
    "*\tThese are just some basic color definitions (using RGB values). We’ll use them to color the background, text, and buttons.\n"
   ]
  },
  {
   "cell_type": "code",
   "execution_count": 10,
   "metadata": {},
   "outputs": [],
   "source": [
    "# colors\n",
    "WHITE = (255, 255, 255)\n",
    "BLACK = (0, 0, 0)\n",
    "RED = (255, 0, 0)\n",
    "GREEN = (0, 255, 0)"
   ]
  },
  {
   "cell_type": "markdown",
   "metadata": {},
   "source": [
    "### 8. Game Loop Setup \n",
    "*\tFrames Per Second (FPS): This sets the game’s refresh rate to 60 frames per second, ensuring the game runs smoothly without lag or unnecessary CPU usage.\n",
    "\n",
    "*\tPygame Clock: The clock object is used to control the frame rate of the game. It ensures that the game runs at the set FPS, providing consistent timing for all animations and movements.\n",
    "\n",
    ">\tStart Game Flag: This boolean variable is used to track whether the game has started or not.\n",
    "*\tFalse: Before the player clicks to start, the game shows the “Click to Play” screen.\n",
    "*\tTrue: Once the player clicks, the game begins."
   ]
  },
  {
   "cell_type": "code",
   "execution_count": 11,
   "metadata": {},
   "outputs": [],
   "source": [
    "# setup game loop\n",
    "FPS = 60\n",
    "clock = pygame.time.Clock()\n",
    "start_game = False  # Variable to check if the game has started"
   ]
  },
  {
   "cell_type": "markdown",
   "metadata": {},
   "source": [
    "### 9. Drawing Everything\n",
    "*\tClears the screen with a white background to prepare for the next frame’s content.\n",
    " \n",
    "*\tIf the game hasn’t started, this condition ensures that only the “Click to Play” message is shown.\n",
    " \n",
    "*\tRenders the Message: The TITLE_FONT.render() function creates an image of the text “Click to Play” in black using the title font.\n",
    " \n",
    "*\tCenters the Text: The text is positioned in the center of the screen by calculating the width and height of the window, then adjusting the text’s position so that it’s aligned in the middle. \n",
    " \n",
    "*\tDisplays the Text: win.blit() draws the text onto the game window at the calculated position. \n",
    " \n",
    "*\tUpdates the screen with the latest content (like the “Click to Play” message) after drawing is completed.\n"
   ]
  },
  {
   "cell_type": "code",
   "execution_count": 13,
   "metadata": {},
   "outputs": [],
   "source": [
    "def draw():\n",
    "    win.fill(WHITE)\n",
    "\n",
    "    if not start_game:\n",
    "        text = TITLE_FONT.render(\"Click to Play\", 1, BLACK)\n",
    "        win.blit(text, (WIDTH / 2 - text.get_width() / 2, HEIGHT / 2 - text.get_height() / 2))\n",
    "        pygame.display.update()\n",
    "        return"
   ]
  },
  {
   "cell_type": "markdown",
   "metadata": {},
   "source": [
    "### 10. Displaying the Word and Alphabet Buttons\n",
    "> 1. Title\n",
    "*\tRendering: The TITLE_FONT.render() method creates the “HANGMAN” title in black.\n",
    "*\tCentering: The title is centered horizontally by subtracting half the text’s width from the screen’s midpoint, and placed 20 pixels from the top using win.blit().\n",
    "    \n",
    "> 2.\tBuilding the Word:\n",
    "*\tA loop goes through each letter in the chosen word.\n",
    "*\tIf the letter has been guessed (i.e., it’s in the guessed list), it’s added to the displayed word.\n",
    "*\tIf not, it displays an underscore (_) in its place, indicating a missing letter.\n",
    "\n",
    "> 3.\tRendering the Word: After constructing the string with correct guesses and blanks, the WORD_FONT.render() method creates an image of the text, which is then displayed using win.blit() at coordinates (400, 200) on the screen.\n",
    "\n",
    "> 4.\tVisible Letters:\n",
    "*\tFor each letter in the letters list, if the letter hasn’t been guessed (visible == True), a black circle (button) is drawn at its respective position (x, y) with a radius defined by RADIUS.\n",
    "*\tThe corresponding letter is rendered inside the circle using the LETTER_FONT.render() method and displayed in the center of the circle.\n",
    "\n",
    "> 5.\tNon-visible Letters:\n",
    "*\tIf the letter has already been guessed (visible == False), the circle is filled in either red (if the letter was wrong) or green (if the letter was correct) to provide feedback on previous guesses.\n"
   ]
  },
  {
   "cell_type": "code",
   "execution_count": 14,
   "metadata": {},
   "outputs": [],
   "source": [
    "# draw title\n",
    "text = TITLE_FONT.render(\"HANGMAN\", 1, BLACK)\n",
    "win.blit(text, (WIDTH / 2 - text.get_width() / 2, 20))\n",
    "\n",
    "# draw word\n",
    "display_word = \"\"\n",
    "for letter in word:\n",
    "    if letter in guessed:\n",
    "        display_word += letter + \" \"\n",
    "    else:\n",
    "        display_word += \"_ \"\n",
    "text = WORD_FONT.render(display_word, 1, BLACK)\n",
    "win.blit(text, (400, 200))\n",
    "\n",
    "# draw buttons\n",
    "for letter in letters:\n",
    "    x, y, ltr, visible = letter\n",
    "    if visible:\n",
    "        pygame.draw.circle(win, BLACK, (x, y), RADIUS, 3)\n",
    "        text = LETTER_FONT.render(ltr, 1, BLACK)\n",
    "        win.blit(text, (x - text.get_width() / 2, y - text.get_height() / 2))\n",
    "    else:\n",
    "        pygame.draw.circle(win, RED if ltr not in word else GREEN, (x, y), RADIUS, 0)"
   ]
  },
  {
   "cell_type": "markdown",
   "metadata": {},
   "source": [
    "### 11. Drawing the Hangman Image\n",
    "*\tDepending on how many mistakes you’ve made (hangman_status), we show the corresponding Hangman image on the screen.\n"
   ]
  },
  {
   "cell_type": "code",
   "execution_count": 15,
   "metadata": {},
   "outputs": [],
   "source": [
    "# draw hangman\n",
    "win.blit(images[hangman_status], (150, 100))\n",
    "pygame.display.update()"
   ]
  },
  {
   "cell_type": "markdown",
   "metadata": {},
   "source": [
    "### 12. Displaying a Message\n",
    "*\tDelay: pygame.time.delay(1000) adds a 1-second pause before displaying the message.\n",
    "\n",
    "*\tClearing Screen: win.fill(WHITE) fills the window with a white background.\n",
    "\n",
    "*\tRender Message: WORD_FONT.render(message, 1, BLACK) creates the black text for the message (e.g., “You Won!” or “You Lost!”).\n",
    "\n",
    "*\tCentering Message: The message is centered by adjusting its position based on the screen’s width and height.\n",
    "\n",
    "*\tUpdate Display: pygame.display.update() refreshes the screen to show the message.\n",
    "\n",
    "*\tFinal Delay: The game pauses for 2 more seconds after showing the message."
   ]
  },
  {
   "cell_type": "code",
   "execution_count": 16,
   "metadata": {},
   "outputs": [],
   "source": [
    "def display_message(message):\n",
    "    pygame.time.delay(1000)\n",
    "    win.fill(WHITE)\n",
    "    text = WORD_FONT.render(message, 1, BLACK)\n",
    "    win.blit(text, (WIDTH / 2 - text.get_width() / 2, HEIGHT / 2 - text.get_height() / 2))\n",
    "    pygame.display.update()\n",
    "    pygame.time.delay(2000)"
   ]
  },
  {
   "cell_type": "markdown",
   "metadata": {},
   "source": [
    "### 13. Resetting the Game\n",
    "*\tGlobal Variables: Modifies hangman_status, word, guessed, and start_game.\n",
    "\n",
    "*\tReset Mistakes: Sets hangman_status to 0 for a fresh start.\n",
    "\n",
    "*\tNew Word: Randomly selects a new word from the words list.\n",
    "\n",
    "*\tClear Guesses: Resets the guessed list to empty.\n",
    "\n",
    "*\tGame Start Flag: Sets start_game to False to display “Click to Play.”\n",
    "\n",
    "*\tReset Visibility: Loops through letters, setting each letter’s visibility to True."
   ]
  },
  {
   "cell_type": "code",
   "execution_count": 17,
   "metadata": {},
   "outputs": [],
   "source": [
    "def reset_game():\n",
    "    global hangman_status, word, guessed, start_game\n",
    "    hangman_status = 0\n",
    "    word = random.choice(words)\n",
    "    guessed = []\n",
    "    start_game = False  # Reset to show 'Click to Play'\n",
    "    for letter in letters:\n",
    "        letter[3] = True"
   ]
  },
  {
   "cell_type": "markdown",
   "metadata": {},
   "source": [
    "### 13. Checking if You’ve Won or Lost\n",
    "This function checks whether you’ve won or lost the game:\n",
    "*\tIf all letters in the word are in guessed, you win.\n",
    "*\tIf you’ve made 6 incorrect guesses (hangman_status == 6), you lose.\n",
    "*\tIn both cases, a message appears asking if you want to play again."
   ]
  },
  {
   "cell_type": "code",
   "execution_count": 18,
   "metadata": {},
   "outputs": [],
   "source": [
    "def check_game_status():\n",
    "    won = all(letter in guessed for letter in word)\n",
    "    if won:\n",
    "        display_message(\"You WON! Play Again?\")\n",
    "        return True\n",
    "    if hangman_status == 6:\n",
    "        display_message(f\"You LOST! The word was {word}. Play Again?\")\n",
    "        return True\n",
    "    return False"
   ]
  },
  {
   "cell_type": "markdown",
   "metadata": {},
   "source": [
    "### 14. Main Game Loop\n",
    ">\tGlobal Variables: hangman_status tracks the player’s mistakes, and start_game checks if the game has started.\n",
    "\n",
    ">\tGame Loop: The loop runs as long as run is True, maintaining a frame rate controlled by FPS. The draw() function updates the game visuals on each frame.\n",
    "\n",
    ">\tQuit Event: If the user closes the game window, the loop ends, and run is set to False.\n",
    "\n",
    ">\tMouse Clicks:\n",
    "*\tIf the game hasn’t started, a mouse click triggers start_game = True, beginning the game.\n",
    "*\tOnce the game starts, mouse clicks check if the player clicked on any letter.\n",
    "*\tIf a letter is clicked, its visibility is set to False (removing it from further play).\n",
    "*\tCorrect Guess: The guessed letter is added to the guessed list.\n",
    "*\tWrong Guess: If the letter isn’t in the word, the hangman_status increases by 1 (progressing the hangman drawing).\n",
    "\n",
    ">\tGame Status Check: After each frame, the game checks if the player has won or lost using the check_game_status() function.\n",
    "*\tIf the game is over (either win or loss), the game is reset by calling reset_game().\n",
    "\n",
    ">\tEnd the Game: Once the loop exits, pygame.quit() is called to properly close the game window and exit the program.\n"
   ]
  },
  {
   "cell_type": "code",
   "execution_count": 19,
   "metadata": {},
   "outputs": [],
   "source": [
    "def main():\n",
    "    global hangman_status, start_game\n",
    "\n",
    "    run = True\n",
    "    while run:\n",
    "        clock.tick(FPS)\n",
    "\n",
    "        draw()\n",
    "\n",
    "        for event in pygame.event.get():\n",
    "            if event.type == pygame.QUIT:\n",
    "                run = False\n",
    "            if event.type == pygame.MOUSEBUTTONDOWN:\n",
    "                if not start_game:\n",
    "                    start_game = True\n",
    "                else:\n",
    "                    pos = pygame.mouse.get_pos()\n",
    "                    for letter in letters:\n",
    "                        x, y, ltr, visible = letter\n",
    "                        if visible:\n",
    "                            dis = pygame.math.Vector2(pos).distance_to((x, y))\n",
    "                            if dis < RADIUS:\n",
    "                                letter[3] = False\n",
    "                                if ltr in word:\n",
    "                                    guessed.append(ltr)\n",
    "                                else:\n",
    "                                    hangman_status += 1\n",
    "\n",
    "        if start_game and check_game_status():\n",
    "            reset_game()\n",
    "\n",
    "    pygame.quit()"
   ]
  },
  {
   "cell_type": "markdown",
   "metadata": {},
   "source": [
    "### 15. Resetting the Game\n",
    "*\tWhen the game is over (either won or lost), this function resets everything: the Hangman status, the word to guess, and the guessed letters. It also makes all the alphabet buttons visible again.\n",
    "\n"
   ]
  },
  {
   "cell_type": "code",
   "execution_count": 20,
   "metadata": {},
   "outputs": [],
   "source": [
    "def reset_game():\n",
    "    global hangman_status, word, guessed, start_game\n",
    "    hangman_status = 0\n",
    "    word = random.choice(words)\n",
    "    guessed = []\n",
    "    start_game = False\n",
    "    for letter in letters:\n",
    "        letter[3] = True"
   ]
  },
  {
   "cell_type": "code",
   "execution_count": 21,
   "metadata": {},
   "outputs": [
    {
     "ename": "",
     "evalue": "",
     "output_type": "error",
     "traceback": [
      "\u001b[1;31mThe Kernel crashed while executing code in the current cell or a previous cell. \n",
      "\u001b[1;31mPlease review the code in the cell(s) to identify a possible cause of the failure. \n",
      "\u001b[1;31mClick <a href='https://aka.ms/vscodeJupyterKernelCrash'>here</a> for more info. \n",
      "\u001b[1;31mView Jupyter <a href='command:jupyter.viewOutput'>log</a> for further details."
     ]
    }
   ],
   "source": [
    "main()\n"
   ]
  },
  {
   "cell_type": "markdown",
   "metadata": {},
   "source": [
    "# NOTE\n",
    ">## Running Pygame in Jupyter Notebook can be tricky because Jupyter is designed primarily for running code in a more interactive and non-blocking way, while Pygame typically requires a continuous loop to manage its game window.\n",
    "## Instead of running Pygame in a Jupyter Notebook, Run your game in a standalone Python script (.py file)."
   ]
  },
  {
   "cell_type": "markdown",
   "metadata": {},
   "source": []
  }
 ],
 "metadata": {
  "kernelspec": {
   "display_name": "myenv",
   "language": "python",
   "name": "python3"
  },
  "language_info": {
   "codemirror_mode": {
    "name": "ipython",
    "version": 3
   },
   "file_extension": ".py",
   "mimetype": "text/x-python",
   "name": "python",
   "nbconvert_exporter": "python",
   "pygments_lexer": "ipython3",
   "version": "3.12.6"
  }
 },
 "nbformat": 4,
 "nbformat_minor": 2
}
